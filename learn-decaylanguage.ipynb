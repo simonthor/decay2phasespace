{
 "cells": [
  {
   "cell_type": "code",
   "execution_count": 8,
   "metadata": {
    "collapsed": true
   },
   "outputs": [],
   "source": [
    "from pprint import pprint\n",
    "from decaylanguage import *\n",
    "from phasespace import GenParticle\n",
    "from particle import Particle"
   ]
  },
  {
   "cell_type": "markdown",
   "source": [
    "DecayChainViewer only contains one way a particle can decay.\n",
    "The best way to handle everything (at least for now) might therefore be via dicts.\n",
    "One can also directly convert DecayChains to GenParticle, since they have a one-to-one format.\n",
    "This is because DecayChain only contains one way the mother can decay, which phasespace is built on.\n",
    "Not sure if this is intended.\n",
    "TODO: Ask in Gitter?\n",
    "\n",
    "Example:"
   ],
   "metadata": {
    "collapsed": false
   }
  },
  {
   "cell_type": "code",
   "execution_count": 12,
   "outputs": [
    {
     "name": "stdout",
     "output_type": "stream",
     "text": [
      "<DecayChain: D+ -> K- pi+ pi+ pi0 (1 sub-decays), BF=1.0>\n"
     ]
    }
   ],
   "source": [
    "parser = DecFileParser('test_example_Dst.dec')\n",
    "parser.parse()"
   ],
   "metadata": {
    "collapsed": false,
    "pycharm": {
     "name": "#%%\n"
    }
   }
  },
  {
   "cell_type": "code",
   "execution_count": 13,
   "outputs": [
    {
     "name": "stdout",
     "output_type": "stream",
     "text": [
      "{'D+': [{'bf': 1.0,\n",
      "         'fs': ['K-',\n",
      "                'pi+',\n",
      "                'pi+',\n",
      "                {'pi0': [{'bf': 6.5e-08,\n",
      "                          'fs': ['e+', 'e-'],\n",
      "                          'model': 'PHSP',\n",
      "                          'model_params': ''}]}],\n",
      "         'model': 'PHSP',\n",
      "         'model_params': ''}]}\n",
      "{'D+': [{'bf': 1.0,\n",
      "         'fs': ['K-',\n",
      "                'pi+',\n",
      "                'pi+',\n",
      "                {'pi0': [{'bf': 0.988228297,\n",
      "                          'fs': ['gamma', 'gamma'],\n",
      "                          'model': 'PHSP',\n",
      "                          'model_params': ''},\n",
      "                         {'bf': 0.011738247,\n",
      "                          'fs': ['e+', 'e-', 'gamma'],\n",
      "                          'model': 'PI0_DALITZ',\n",
      "                          'model_params': ''},\n",
      "                         {'bf': 3.3392e-05,\n",
      "                          'fs': ['e+', 'e+', 'e-', 'e-'],\n",
      "                          'model': 'PHSP',\n",
      "                          'model_params': ''},\n",
      "                         {'bf': 6.5e-08,\n",
      "                          'fs': ['e+', 'e-'],\n",
      "                          'model': 'PHSP',\n",
      "                          'model_params': ''}]}],\n",
      "         'model': 'PHSP',\n",
      "         'model_params': ''}]}\n"
     ]
    }
   ],
   "source": [
    "d = parser.build_decay_chains('D+')\n",
    "dc = DecayChain.from_dict(d)\n",
    "pprint(dc.to_dict())\n",
    "pprint(d)"
   ],
   "metadata": {
    "collapsed": false,
    "pycharm": {
     "name": "#%%\n"
    }
   }
  },
  {
   "cell_type": "markdown",
   "source": [
    "Clearly, there is a difference between the 2 above."
   ],
   "metadata": {
    "collapsed": false
   }
  },
  {
   "cell_type": "markdown",
   "source": [
    "The format of the output dict is (according to the `parser.build_decay_chains` docstring):\n",
    "```python\n",
    "{mother: [{'bf': float, 'fs': list, 'model': str, 'model_params': str}]}\n",
    "```\n",
    "where\n",
    "- 'bf' stands for the decay mode branching fraction\n",
    "- 'fs' is a list of final-state particle names (strings) and/or dictionaries of the same form as the decay chain above\n",
    "- 'model' is the model name, if found, else ''\n",
    "- 'model_params' are the model parameters, if specified, else ''"
   ],
   "metadata": {
    "collapsed": false
   }
  },
  {
   "cell_type": "code",
   "execution_count": 6,
   "outputs": [
    {
     "data": {
      "text/plain": "<DecayChain: B0 -> K*0 gamma (1 sub-decays), BF=4.33e-05>"
     },
     "execution_count": 6,
     "metadata": {},
     "output_type": "execute_result"
    }
   ],
   "source": [
    "dm1 = DecayMode(0.000043300 , 'K*0 gamma', model='HELAMP', model_params=[1.0, 0.0, 1.0, 0.0])\n",
    "dm2 = DecayMode(0.6657, 'K+ pi-', model='VSS')\n",
    "dc = DecayChain('B0', {'B0':dm1, 'K*0':dm2})\n",
    "dc"
   ],
   "metadata": {
    "collapsed": false,
    "pycharm": {
     "name": "#%%\n"
    }
   }
  },
  {
   "cell_type": "code",
   "execution_count": 51,
   "outputs": [],
   "source": [
    "def generate_nbody_naive(decaychain, nevents):\n",
    "    def recursively_replace(mother):\n",
    "        dm = decaychain.decays[mother].to_dict()\n",
    "        result = []\n",
    "        list_fsp = dm[\"fs\"]\n",
    "\n",
    "        for pos, fsp in enumerate(list_fsp):\n",
    "            if fsp in decaychain.decays.keys():\n",
    "                list_fsp[pos] = recursively_replace(fsp)\n",
    "        result.append(dm)\n",
    "        return {mother: result}\n",
    "\n",
    "    for i in range(nevents):\n",
    "\n",
    "    return recursively_replace(decaychain.mother)\n",
    "\n",
    "\n"
   ],
   "metadata": {
    "collapsed": false,
    "pycharm": {
     "name": "#%%\n"
    }
   }
  }
 ],
 "metadata": {
  "kernelspec": {
   "display_name": "Python 3",
   "language": "python",
   "name": "python3"
  },
  "language_info": {
   "codemirror_mode": {
    "name": "ipython",
    "version": 2
   },
   "file_extension": ".py",
   "mimetype": "text/x-python",
   "name": "python",
   "nbconvert_exporter": "python",
   "pygments_lexer": "ipython2",
   "version": "2.7.6"
  }
 },
 "nbformat": 4,
 "nbformat_minor": 0
}